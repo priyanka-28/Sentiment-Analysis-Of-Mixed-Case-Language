{
  "nbformat": 4,
  "nbformat_minor": 0,
  "metadata": {
    "colab": {
      "name": "Deep Learning Based Approach.ipynb",
      "provenance": [],
      "collapsed_sections": [],
      "toc_visible": true
    },
    "kernelspec": {
      "display_name": "Python 3",
      "name": "python3"
    },
    "language_info": {
      "name": "python"
    }
  },
  "cells": [
    {
      "cell_type": "markdown",
      "metadata": {
        "id": "j3T619EaFPcW"
      },
      "source": [
        "### Imports"
      ]
    },
    {
      "cell_type": "code",
      "metadata": {
        "id": "hOjPL-2f4sn6"
      },
      "source": [
        "import re\n",
        "import numpy as np\n",
        "import pandas as pd\n",
        "from sklearn.model_selection import train_test_split\n",
        "import matplotlib.pyplot as plt\n",
        "\n",
        "from keras.models import Sequential, load_model\n",
        "from keras.layers import Dense, LSTM, Embedding, Dropout\n",
        "from keras.preprocessing.text import Tokenizer\n",
        "from keras.preprocessing.sequence import pad_sequences\n"
      ],
      "execution_count": null,
      "outputs": []
    },
    {
      "cell_type": "markdown",
      "metadata": {
        "id": "BEH0Ao4IFUBA"
      },
      "source": [
        "### Loading in Dataset"
      ]
    },
    {
      "cell_type": "code",
      "metadata": {
        "colab": {
          "base_uri": "https://localhost:8080/",
          "height": 221
        },
        "id": "VNbrk3CR4yef",
        "outputId": "2453b513-3ad2-4fba-a37e-872e9549489f"
      },
      "source": [
        "data = pd.read_csv('FinalDataset.csv')\n",
        "data.TWEET=data.TWEET.astype(str)\n",
        "\n",
        "data = data.sample(frac=1).reset_index(drop=True)\n",
        "print(data.shape)\n",
        "data.head()"
      ],
      "execution_count": null,
      "outputs": [
        {
          "output_type": "stream",
          "text": [
            "(14594, 4)\n"
          ],
          "name": "stdout"
        },
        {
          "output_type": "execute_result",
          "data": {
            "text/html": [
              "<div>\n",
              "<style scoped>\n",
              "    .dataframe tbody tr th:only-of-type {\n",
              "        vertical-align: middle;\n",
              "    }\n",
              "\n",
              "    .dataframe tbody tr th {\n",
              "        vertical-align: top;\n",
              "    }\n",
              "\n",
              "    .dataframe thead th {\n",
              "        text-align: right;\n",
              "    }\n",
              "</style>\n",
              "<table border=\"1\" class=\"dataframe\">\n",
              "  <thead>\n",
              "    <tr style=\"text-align: right;\">\n",
              "      <th></th>\n",
              "      <th>Unnamed: 0</th>\n",
              "      <th>TWEET</th>\n",
              "      <th>SCORE</th>\n",
              "      <th>SENTIMENT_LABEL</th>\n",
              "    </tr>\n",
              "  </thead>\n",
              "  <tbody>\n",
              "    <tr>\n",
              "      <th>0</th>\n",
              "      <td>4214</td>\n",
              "      <td>song mileya mileya happi end veri underr nan</td>\n",
              "      <td>1</td>\n",
              "      <td>neutral</td>\n",
              "    </tr>\n",
              "    <tr>\n",
              "      <th>1</th>\n",
              "      <td>12011</td>\n",
              "      <td>jai sri ram aapki mehnat oor lagan oor tapesya...</td>\n",
              "      <td>2</td>\n",
              "      <td>positive</td>\n",
              "    </tr>\n",
              "    <tr>\n",
              "      <th>2</th>\n",
              "      <td>4848</td>\n",
              "      <td>congratul sir aasha h ab aap capf jism crpf b ...</td>\n",
              "      <td>2</td>\n",
              "      <td>positive</td>\n",
              "    </tr>\n",
              "    <tr>\n",
              "      <th>3</th>\n",
              "      <td>9155</td>\n",
              "      <td>jo apn bhai ko ek sit na de ska wo ?????? biha...</td>\n",
              "      <td>0</td>\n",
              "      <td>negative</td>\n",
              "    </tr>\n",
              "    <tr>\n",
              "      <th>4</th>\n",
              "      <td>14202</td>\n",
              "      <td>schlag jana heut von mir dank lg nan</td>\n",
              "      <td>1</td>\n",
              "      <td>neutral</td>\n",
              "    </tr>\n",
              "  </tbody>\n",
              "</table>\n",
              "</div>"
            ],
            "text/plain": [
              "   Unnamed: 0  ... SENTIMENT_LABEL\n",
              "0        4214  ...         neutral\n",
              "1       12011  ...        positive\n",
              "2        4848  ...        positive\n",
              "3        9155  ...        negative\n",
              "4       14202  ...         neutral\n",
              "\n",
              "[5 rows x 4 columns]"
            ]
          },
          "metadata": {
            "tags": []
          },
          "execution_count": 3
        }
      ]
    },
    {
      "cell_type": "code",
      "metadata": {
        "colab": {
          "base_uri": "https://localhost:8080/",
          "height": 204
        },
        "id": "aB6UNVg85Sm3",
        "outputId": "6543b5c9-f3bc-4d6a-c58f-942cb58efe0b"
      },
      "source": [
        "data = data[['TWEET', 'SENTIMENT_LABEL']]\n",
        "data.head()"
      ],
      "execution_count": null,
      "outputs": [
        {
          "output_type": "execute_result",
          "data": {
            "text/html": [
              "<div>\n",
              "<style scoped>\n",
              "    .dataframe tbody tr th:only-of-type {\n",
              "        vertical-align: middle;\n",
              "    }\n",
              "\n",
              "    .dataframe tbody tr th {\n",
              "        vertical-align: top;\n",
              "    }\n",
              "\n",
              "    .dataframe thead th {\n",
              "        text-align: right;\n",
              "    }\n",
              "</style>\n",
              "<table border=\"1\" class=\"dataframe\">\n",
              "  <thead>\n",
              "    <tr style=\"text-align: right;\">\n",
              "      <th></th>\n",
              "      <th>TWEET</th>\n",
              "      <th>SENTIMENT_LABEL</th>\n",
              "    </tr>\n",
              "  </thead>\n",
              "  <tbody>\n",
              "    <tr>\n",
              "      <th>0</th>\n",
              "      <td>song mileya mileya happi end veri underr nan</td>\n",
              "      <td>neutral</td>\n",
              "    </tr>\n",
              "    <tr>\n",
              "      <th>1</th>\n",
              "      <td>jai sri ram aapki mehnat oor lagan oor tapesya...</td>\n",
              "      <td>positive</td>\n",
              "    </tr>\n",
              "    <tr>\n",
              "      <th>2</th>\n",
              "      <td>congratul sir aasha h ab aap capf jism crpf b ...</td>\n",
              "      <td>positive</td>\n",
              "    </tr>\n",
              "    <tr>\n",
              "      <th>3</th>\n",
              "      <td>jo apn bhai ko ek sit na de ska wo ?????? biha...</td>\n",
              "      <td>negative</td>\n",
              "    </tr>\n",
              "    <tr>\n",
              "      <th>4</th>\n",
              "      <td>schlag jana heut von mir dank lg nan</td>\n",
              "      <td>neutral</td>\n",
              "    </tr>\n",
              "  </tbody>\n",
              "</table>\n",
              "</div>"
            ],
            "text/plain": [
              "                                               TWEET SENTIMENT_LABEL\n",
              "0       song mileya mileya happi end veri underr nan         neutral\n",
              "1  jai sri ram aapki mehnat oor lagan oor tapesya...        positive\n",
              "2  congratul sir aasha h ab aap capf jism crpf b ...        positive\n",
              "3  jo apn bhai ko ek sit na de ska wo ?????? biha...        negative\n",
              "4               schlag jana heut von mir dank lg nan         neutral"
            ]
          },
          "metadata": {
            "tags": []
          },
          "execution_count": 4
        }
      ]
    },
    {
      "cell_type": "code",
      "metadata": {
        "colab": {
          "base_uri": "https://localhost:8080/",
          "height": 316
        },
        "id": "Qf2fL5E46V2p",
        "outputId": "3daf4847-0acf-485c-c3b3-4eb6cff7c066"
      },
      "source": [
        "data['SENTIMENT_LABEL'].value_counts().sort_index().plot.bar()"
      ],
      "execution_count": null,
      "outputs": [
        {
          "output_type": "execute_result",
          "data": {
            "text/plain": [
              "<matplotlib.axes._subplots.AxesSubplot at 0x7efef6103a10>"
            ]
          },
          "metadata": {
            "tags": []
          },
          "execution_count": 5
        },
        {
          "output_type": "display_data",
          "data": {
            "image/png": "[encoded data removed]",
            "text/plain": [
              "<Figure size 432x288 with 1 Axes>"
            ]
          },
          "metadata": {
            "tags": [],
            "needs_background": "light"
          }
        }
      ]
    },
    {
      "cell_type": "code",
      "metadata": {
        "colab": {
          "base_uri": "https://localhost:8080/",
          "height": 282
        },
        "id": "x9VIIhU86wYG",
        "outputId": "cc62afca-998f-461c-9d2c-be4de6b14cc5"
      },
      "source": [
        "#data['TWEET'].str.len().plot.hist()"
      ],
      "execution_count": null,
      "outputs": [
        {
          "output_type": "execute_result",
          "data": {
            "text/plain": [
              "<matplotlib.axes._subplots.AxesSubplot at 0x7f45f067e510>"
            ]
          },
          "metadata": {
            "tags": []
          },
          "execution_count": 7
        },
        {
          "output_type": "display_data",
          "data": {
            "image/png": "[encoded data removed]",
            "text/plain": [
              "<Figure size 432x288 with 1 Axes>"
            ]
          },
          "metadata": {
            "tags": []
          }
        }
      ]
    },
    {
      "cell_type": "markdown",
      "metadata": {
        "id": "esll2HdLFhFH"
      },
      "source": [
        "### Preprocessing"
      ]
    },
    {
      "cell_type": "code",
      "metadata": {
        "colab": {
          "base_uri": "https://localhost:8080/"
        },
        "id": "sTzYUjD-6_PI",
        "outputId": "07cb00f2-b3a8-4d20-dbc5-b9c0a2c7f9c6"
      },
      "source": [
        "#Transform text to lowercase\n",
        "data['TWEET'].apply(lambda x: x.lower()) \n",
        "#Removing all punctuations and special characters\n",
        "data['TWEET'] = data['TWEET'].apply(lambda x: re.sub('[^a-zA-z0-9\\s]', '', x))\n",
        "data['TWEET'].head()"
      ],
      "execution_count": null,
      "outputs": [
        {
          "output_type": "execute_result",
          "data": {
            "text/plain": [
              "0         song mileya mileya happi end veri underr nan\n",
              "1    jai sri ram aapki mehnat oor lagan oor tapesya...\n",
              "2    congratul sir aasha h ab aap capf jism crpf b ...\n",
              "3    jo apn bhai ko ek sit na de ska wo  bihar ko k...\n",
              "4                 schlag jana heut von mir dank lg nan\n",
              "Name: TWEET, dtype: object"
            ]
          },
          "metadata": {
            "tags": []
          },
          "execution_count": 6
        }
      ]
    },
    {
      "cell_type": "code",
      "metadata": {
        "id": "PIajXNi8GRW3"
      },
      "source": [
        "english_stopwords = [\"i\", \"me\", \"my\", \"myself\", \"we\", \"our\", \"ours\", \"ourselves\", \"you\", \"your\", \"yours\", \"yourself\", \"yourselves\", \"he\", \"him\", \"his\", \"himself\", \"she\", \"her\", \"hers\", \"herself\", \"it\", \"its\", \"itself\", \"they\", \"them\", \"their\", \"theirs\", \"themselves\", \"what\", \"which\", \"who\", \"whom\", \"this\", \"that\", \"these\", \"those\", \"am\", \"is\", \"are\", \"was\", \"were\", \"be\", \"been\", \"being\", \"have\", \"has\", \"had\", \"having\", \"do\", \"does\", \"did\", \"doing\", \"a\", \"an\", \"the\", \"and\", \"but\", \"if\", \"or\", \"because\", \"as\", \"until\", \"while\", \"of\", \"at\", \"by\", \"for\", \"with\", \"about\", \"against\", \"between\", \"into\", \"through\", \"during\", \"before\", \"after\", \"above\", \"below\", \"to\", \"from\", \"up\", \"down\", \"in\", \"out\", \"on\", \"off\", \"over\", \"under\", \"again\", \"further\", \"then\", \"once\", \"here\", \"there\", \"when\", \"where\", \"why\", \"how\", \"all\", \"any\", \"both\", \"each\", \"few\", \"more\", \"most\", \"other\", \"some\", \"such\", \"no\", \"nor\", \"not\", \"only\", \"own\", \"same\", \"so\", \"than\", \"too\", \"very\", \"s\", \"t\", \"can\", \"will\", \"just\", \"don\", \"should\", \"now\"]\n",
        "hindi_stopwords = ['ke', 'ka', 'ek', 'mein', 'ki', 'hai', 'yah', 'aur', 'se', 'hain', 'ko', 'par', 'iss', 'hota', 'jo', 'kar', 'me', 'gaya', 'karne', 'kiya', 'liye', 'apne', 'ne', 'bani', 'nahi', 'toh', 'hi', 'ya', 'avam', 'diya', 'ho', 'iska', 'tha', 'dhvara', 'hua', 'tak', 'saath', 'karna', 'vaale', 'baad', 'liya', 'aap', 'kuchh', 'sakte', 'kisi', 'iska', 'sabse', 'ismein', 'the', 'do', 'hone', 'vah', 've', 'karte', 'bahut', 'kaha', 'varg', 'kai', 'karein', 'hoti', 'apni', 'unke', 'thi', 'yadi', 'hui', 'jaa', 'na', 'ise', 'kehte', 'kahte', 'jab', 'hote', 'koi', 'hue', 'va', 'abhi', 'jaise', 'sabhi', 'karta', 'unki', 'tarah', 'uss', 'aadi', 'kul', 'raha', 'iski', 'sakta', 'rahe', 'unka', 'issi', 'rakhein', 'apna', 'pe', 'uske', 'kyu', 'kyun', 'modi', 'isko', 'iska', 'tum', 'tumhara', 'kyon', 'kyunki', 'log', 'bhai', 'kya', 'teri', 'tere', 'tera', 'ab', 'ye', 'yeh', 'ekto', 'aapko', 'ha', 'haan', 'aapka', 'yahi', 'meri', 'mera', 'h', 'u', 'k', 'pr', 'jise', 'jis', 'jisko', 'ham', 'hum', 'hamara', 'humara', 'hamari', 'humari', 'jitna', 'jitne', 'ur', 'wo', 'woh', 'waha', 'wahan', 'vaha', 'vahan', 'kya', 'koh', 'tumne', 'tumn', 'raha', 'rha', 'raho', 'kahun', 'kahu', 'kahan', 'kaha', 'jesi', 'jaisa', 'jaise', 'kitna', 'kitne', 'kitn', 'kitni', 'wale', 'wala', 'didi', 'bhi', 'phir', 'vapas', 'hei', 'hein', 'bana', 'sakte', 'ji', 'n', 'b', 'kisko', 'kisiko', 'apni', 'apna', 'apne', 'hote', 'hota', 'baad', 'mei', 'p', 'ap', 'oye', 'hoye', 'rahe', 'rahi', 'sab', 'apn', 'yhi', 'tmko', 'hu', 'kyonki', 'mere', 'g', 'apka', 'apke', 'apki', 'aapki', 'aapke', 'kaun', 'kab', 'kabhi', 'mai', 'dia', 'lia', 'baat', 'bat', 'hona', 'honi', 'chahiye', 'chahie', 'din', 'saal', 'samay', 'lekin', 'unhe', 'iske', 'gaye', 'gayi']\n",
        "stopwords_list = english_stopwords + hindi_stopwords\n",
        "data['TWEET'] = data['TWEET'].apply(lambda x: ' '.join([word for word in x.split() if word not in (stopwords_list)]))"
      ],
      "execution_count": null,
      "outputs": []
    },
    {
      "cell_type": "code",
      "metadata": {
        "colab": {
          "base_uri": "https://localhost:8080/"
        },
        "id": "2EMVgACP7xn4",
        "outputId": "f5b19fe3-53bd-4af6-bce7-0c775fe52bac"
      },
      "source": [
        "tokenizer = Tokenizer(num_words=5000, split=\" \")\n",
        "tokenizer.fit_on_texts(data['TWEET'].values)\n",
        "\n",
        "X = tokenizer.texts_to_sequences(data['TWEET'].values)\n",
        "X = pad_sequences(X) # padding our text vector so they all have the same length\n",
        "X[:5]"
      ],
      "execution_count": null,
      "outputs": [
        {
          "output_type": "execute_result",
          "data": {
            "text/plain": [
              "array([[   0,    0,    0,    0,    0,    0,    0,    0,    0,    0,    0,\n",
              "           0,    0,    0,    0,    0,    0,    0,    0,    0,    0,    0,\n",
              "           0,    0,    0,    0,    0,    0,    0,    0,    0,    0,    0,\n",
              "           0,    0,    0,    0,    0,    0,    0,    0,    0,    0,    0,\n",
              "           0,    0,    0,    0,    0,    0,    0,    0,    0,    0,    0,\n",
              "           0,    0,    0,    0,    0,    0,    0,    0,    0,    0,    0,\n",
              "           0,    0,    0,    0,    0,    0,    0,   83, 4914, 4914,    9,\n",
              "         615,  188, 3571,    1],\n",
              "       [   0,    0,    0,    0,    0,    0,    0,    0,    0,    0,    0,\n",
              "           0,    0,    0,    0,    0,    0,    0,    0,    0,    0,    0,\n",
              "           0,    0,    0,    0,    0,    0,    0,    0,    0,    0,    0,\n",
              "           0,    0,    0,    0,    0,    0,    0,    0,    0,    0,    0,\n",
              "           0,    0,    0,    0,    0,    0,    0,    0,    0,    0,    0,\n",
              "           0,    0,    0,    0,    0,    0,    0,    0,    0,    0,    0,\n",
              "           0,    0,    0,    0,    0,   16,  600,   33,  914, 2104,  600,\n",
              "          33, 1948, 2294,   99],\n",
              "       [   0,    0,    0,    0,    0,    0,    0,    0,    0,    0,    0,\n",
              "           0,    0,    0,    0,    0,    0,    0,    0,    0,    0,    0,\n",
              "           0,    0,    0,    0,    0,    0,    0,    0,    0,    0,    0,\n",
              "           0,    0,    0,    0,    0,    0,    0,    0,    0,    0,    0,\n",
              "           0,    0,    0,    0,    0,    0,    0,    0,    0,    0,    0,\n",
              "           0,    0,    0,    0,    0,    0,    0,    0,    0,    0,    0,\n",
              "           0,    0,    0,    0,    0,    0,   41,    2, 1949,  882,  553,\n",
              "        1232,  168, 1543,  533],\n",
              "       [   0,    0,    0,    0,    0,    0,    0,    0,    0,    0,    0,\n",
              "           0,    0,    0,    0,    0,    0,    0,    0,    0,    0,    0,\n",
              "           0,    0,    0,    0,    0,    0,    0,    0,    0,    0,    0,\n",
              "           0,    0,    0,    0,    0,    0,    0,    0,    0,    0,    0,\n",
              "           0,    0,    0,    0,    0,    0,    0,    0,    0,    0,    0,\n",
              "           0,    0,    0,    0,    0,    0,    0,    0,    0,    0,    0,\n",
              "           0,    0,    0,    0,    0,    0, 2295,   34, 1233,  554,  169,\n",
              "        1062, 3133,  601, 3134],\n",
              "       [   0,    0,    0,    0,    0,    0,    0,    0,    0,    0,    0,\n",
              "           0,    0,    0,    0,    0,    0,    0,    0,    0,    0,    0,\n",
              "           0,    0,    0,    0,    0,    0,    0,    0,    0,    0,    0,\n",
              "           0,    0,    0,    0,    0,    0,    0,    0,    0,    0,    0,\n",
              "           0,    0,    0,    0,    0,    0,    0,    0,    0,    0,    0,\n",
              "           0,    0,    0,    0,    0,    0,    0,    0,    0,    0,    0,\n",
              "           0,    0,    0,    0,    0,    0,    0,    0,    0,    0,    0,\n",
              "         667, 4915, 1950,    1]], dtype=int32)"
            ]
          },
          "metadata": {
            "tags": []
          },
          "execution_count": 8
        }
      ]
    },
    {
      "cell_type": "markdown",
      "metadata": {
        "id": "y5mQwigRFpSE"
      },
      "source": [
        "### Creating model"
      ]
    },
    {
      "cell_type": "code",
      "metadata": {
        "id": "BVrnVPpV8JiX"
      },
      "source": [
        "model = Sequential()\n",
        "model.add(Embedding(5000, 256, input_length=X.shape[1]))\n",
        "model.add(Dropout(0.3))\n",
        "model.add(LSTM(256, return_sequences=True, dropout=0.3, recurrent_dropout=0.2))\n",
        "model.add(LSTM(256, dropout=0.3, recurrent_dropout=0.2))\n",
        "model.add(Dense(3, activation='softmax'))"
      ],
      "execution_count": null,
      "outputs": []
    },
    {
      "cell_type": "code",
      "metadata": {
        "colab": {
          "base_uri": "https://localhost:8080/"
        },
        "id": "_HQ5ZONNTNKO",
        "outputId": "70af0c69-fabd-45e6-d1b3-fd2251d3e515"
      },
      "source": [
        "model.compile(loss='categorical_crossentropy', optimizer='adam', metrics=['accuracy'])\n",
        "model.summary()"
      ],
      "execution_count": null,
      "outputs": [
        {
          "output_type": "stream",
          "text": [
            "Model: \"sequential\"\n",
            "_________________________________________________________________\n",
            "Layer (type)                 Output Shape              Param #   \n",
            "=================================================================\n",
            "embedding (Embedding)        (None, 81, 256)           1280000   \n",
            "_________________________________________________________________\n",
            "dropout (Dropout)            (None, 81, 256)           0         \n",
            "_________________________________________________________________\n",
            "lstm (LSTM)                  (None, 81, 256)           525312    \n",
            "_________________________________________________________________\n",
            "lstm_1 (LSTM)                (None, 256)               525312    \n",
            "_________________________________________________________________\n",
            "dense (Dense)                (None, 3)                 771       \n",
            "=================================================================\n",
            "Total params: 2,331,395\n",
            "Trainable params: 2,331,395\n",
            "Non-trainable params: 0\n",
            "_________________________________________________________________\n"
          ],
          "name": "stdout"
        }
      ]
    },
    {
      "cell_type": "code",
      "metadata": {
        "colab": {
          "base_uri": "https://localhost:8080/"
        },
        "id": "u8xL780mTTPA",
        "outputId": "a882d06c-1258-42f0-8228-9ae8f548873c"
      },
      "source": [
        "y = pd.get_dummies(data['SENTIMENT_LABEL']).values\n",
        "[print(data['SENTIMENT_LABEL'][i], y[i]) for i in range(0,5)]"
      ],
      "execution_count": null,
      "outputs": [
        {
          "output_type": "stream",
          "text": [
            "neutral [0 1 0]\n",
            "positive [0 0 1]\n",
            "positive [0 0 1]\n",
            "negative [1 0 0]\n",
            "neutral [0 1 0]\n"
          ],
          "name": "stdout"
        },
        {
          "output_type": "execute_result",
          "data": {
            "text/plain": [
              "[None, None, None, None, None]"
            ]
          },
          "metadata": {
            "tags": []
          },
          "execution_count": 11
        }
      ]
    },
    {
      "cell_type": "code",
      "metadata": {
        "id": "VXpccR7yTi8a"
      },
      "source": [
        "X_train, X_test, y_train, y_test = train_test_split(X, y, test_size=0.2, random_state=0)"
      ],
      "execution_count": null,
      "outputs": []
    },
    {
      "cell_type": "markdown",
      "metadata": {
        "id": "rP1vpr_uFwWA"
      },
      "source": [
        "### Training model"
      ]
    },
    {
      "cell_type": "code",
      "metadata": {
        "colab": {
          "base_uri": "https://localhost:8080/"
        },
        "id": "ckaxQzRCTmB4",
        "outputId": "2a27d454-9c9f-45e4-e3c3-f586f5424195"
      },
      "source": [
        "batch_size = 32\n",
        "epochs = 8\n",
        "\n",
        "model.fit(X_train, y_train, epochs=epochs, batch_size=batch_size, verbose=2)"
      ],
      "execution_count": 13,
      "outputs": [
        {
          "output_type": "stream",
          "text": [
            "Epoch 1/8\n",
            "365/365 - 437s - loss: 0.9105 - accuracy: 0.5469\n",
            "Epoch 2/8\n",
            "365/365 - 431s - loss: 0.7349 - accuracy: 0.6744\n",
            "Epoch 3/8\n",
            "365/365 - 430s - loss: 0.6302 - accuracy: 0.7375\n",
            "Epoch 4/8\n",
            "365/365 - 431s - loss: 0.5374 - accuracy: 0.7836\n",
            "Epoch 5/8\n",
            "365/365 - 431s - loss: 0.4332 - accuracy: 0.8308\n",
            "Epoch 6/8\n",
            "365/365 - 430s - loss: 0.3533 - accuracy: 0.8645\n",
            "Epoch 7/8\n",
            "365/365 - 429s - loss: 0.2885 - accuracy: 0.8917\n",
            "Epoch 8/8\n",
            "365/365 - 427s - loss: 0.2370 - accuracy: 0.9101\n"
          ],
          "name": "stdout"
        },
        {
          "output_type": "execute_result",
          "data": {
            "text/plain": [
              "<tensorflow.python.keras.callbacks.History at 0x7efef5566350>"
            ]
          },
          "metadata": {
            "tags": []
          },
          "execution_count": 0
        }
      ]
    },
    {
      "cell_type": "code",
      "metadata": {
        "id": "uIfGdLOxTryL"
      },
      "source": [
        "model.save('sentiment_analysis.h5')"
      ],
      "execution_count": 14,
      "outputs": []
    },
    {
      "cell_type": "markdown",
      "metadata": {
        "id": "j9iijR8-F3Jt"
      },
      "source": [
        "### Testing model"
      ]
    },
    {
      "cell_type": "code",
      "metadata": {
        "colab": {
          "base_uri": "https://localhost:8080/"
        },
        "id": "Jgg4pkJjT05D",
        "outputId": "949a28b8-e012-4ed8-ca48-f167ba974d4b"
      },
      "source": [
        "predictions = model.predict(X_test)\n",
        "\n",
        "[print(data['TWEET'][i], predictions[i], y_test[i]) for i in range(0, 5)]"
      ],
      "execution_count": 15,
      "outputs": [
        {
          "output_type": "stream",
          "text": [
            "song mileya mileya happi end veri underr nan [1.1327741e-04 1.1130107e-02 9.8875660e-01] [0 0 1]\n",
            "jai sri ram mehnat oor lagan oor tapesya sri ram je daya drasiti sadev rahegi janta [7.831055e-05 8.260944e-03 9.916608e-01] [0 0 1]\n",
            "congratul sir aasha capf jism crpf aati jisn aapk kahe anusar bengal [6.3124030e-06 2.1611582e-03 9.9783248e-01] [0 0 1]\n",
            "sit de ska bihar dega evm gyan jindagi bhar boot [1.0921593e-04 1.7850123e-02 9.8204064e-01] [0 0 1]\n",
            "schlag jana heut von mir dank lg nan [0.00314967 0.1881996  0.80865073] [0 1 0]\n"
          ],
          "name": "stdout"
        },
        {
          "output_type": "execute_result",
          "data": {
            "text/plain": [
              "[None, None, None, None, None]"
            ]
          },
          "metadata": {
            "tags": []
          },
          "execution_count": 15
        }
      ]
    },
    {
      "cell_type": "code",
      "metadata": {
        "colab": {
          "base_uri": "https://localhost:8080/"
        },
        "id": "GTHT6sq9bunz",
        "outputId": "62420335-65c4-4396-aec0-bb013eda75eb"
      },
      "source": [
        "pos_count, neu_count, neg_count = 0, 0, 0\n",
        "real_pos, real_neu, real_neg = 0, 0, 0\n",
        "for i, prediction in enumerate(predictions):\n",
        "    if np.argmax(prediction)==2:\n",
        "        pos_count += 1\n",
        "    elif np.argmax(prediction)==1:\n",
        "        neu_count += 1\n",
        "    else:\n",
        "        neg_count += 1\n",
        "    \n",
        "    if np.argmax(y_test[i])==2:\n",
        "        real_pos += 1\n",
        "    elif np.argmax(y_test[i])==1:    \n",
        "        real_neu += 1\n",
        "    else:\n",
        "        real_neg +=1\n",
        "\n",
        "print('Positive predictions:', pos_count)\n",
        "print('Neutral predictions:', neu_count)\n",
        "print('Negative predictions:', neg_count)\n",
        "print('Real positive:', real_pos)\n",
        "print('Real neutral:', real_neu)\n",
        "print('Real negative:', real_neg)"
      ],
      "execution_count": 16,
      "outputs": [
        {
          "output_type": "stream",
          "text": [
            "Positive predictions: 1006\n",
            "Neutral predictions: 995\n",
            "Negative predictions: 918\n",
            "Real positive: 963\n",
            "Real neutral: 1105\n",
            "Real negative: 851\n"
          ],
          "name": "stdout"
        }
      ]
    }
  ]
}